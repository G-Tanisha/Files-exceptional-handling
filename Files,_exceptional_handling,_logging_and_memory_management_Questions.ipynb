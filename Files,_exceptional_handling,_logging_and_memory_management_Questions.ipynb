{
  "nbformat": 4,
  "nbformat_minor": 0,
  "metadata": {
    "colab": {
      "provenance": []
    },
    "kernelspec": {
      "name": "python3",
      "display_name": "Python 3"
    },
    "language_info": {
      "name": "python"
    }
  },
  "cells": [
    {
      "cell_type": "markdown",
      "source": [
        "#Files, exceptional handling, logging and memory management Questions"
      ],
      "metadata": {
        "id": "rzxLFed6bCBa"
      }
    },
    {
      "cell_type": "markdown",
      "source": [
        "1. What is the difference between interpreted and compiled languages\n",
        "   -Compiled languages translate the entire source code into machine code using a compiler before execution, producing a standalone executable file. They are faster in execution but require compilation after every change (e.g., C, C++). Interpreted languages run code line-by-line using an interpreter, making them easier to test and modify (e.g., Python, JavaScript), though generally slower. Interpreted code needs the interpreter at runtime and doesn't create an executable file. Compiled languages offer better performance, while interpreted ones provide flexibility during development.\n",
        "\n",
        "2. What is exception handling in Python\n",
        "   - Exception handling in Python is a way to manage errors that occur during program execution, allowing the program to continue running instead of crashing. It uses try, except, else, and finally blocks to catch and handle exceptions.\n",
        "\n",
        "3. What is the purpose of the finally block in exception handling\n",
        "   - The finally block in Python is used in exception handling to ensure that certain code always runs, no matter what happens in the try or except blocks. It is typically used for cleanup tasks like closing files or releasing resources. Even if an exception occurs or a return statement is used, the code inside finally will still execute. This helps maintain stability and prevent resource leaks in a program.\n",
        "\n",
        "4. What is logging in Python\n",
        "   - Logging in Python is the process of recording messages about a programs execution, such as errors, warnings, or general information. It helps in debugging, monitoring, and maintaining applications. Python provides a built-in logging module to log messages at different levels like DEBUG, INFO, WARNING, ERROR, and CRITICAL.\n",
        "\n",
        "5. What is the significance of the __del__ method in Python\n",
        "   - The __del__ method in Python is a special method known as a destructor. It is automatically called when an object is about to be destroyed, typically when it is no longer referenced in the program. The main purpose of the __del__ method is to perform cleanup operations, such as closing files or releasing external resources, before the object is removed from memory. However, relying solely on __del__ for critical cleanup is not recommended, as its execution timing is unpredictable due to Python’s garbage collection. For more reliable resource management, using context managers (with statement) is preferred.\n",
        "\n",
        "6. What is the difference between import and from ... import in Python\n",
        "   - In Python, import and from ... import are both used to include external modules, but they differ in how the imported content is accessed. When using import module, the entire module is imported, and its functions or variables must be accessed using the module name as a prefix (e.g., math.sqrt(16)). On the other hand, from module import item allows you to import specific parts of a module, such as a particular function or class, which can then be used directly without the module name (e.g., sqrt(16)). This can make the code shorter and cleaner but may cause naming conflicts if multiple modules contain items with the same name.\n",
        "\n",
        "7. How can you handle multiple exceptions in Python\n",
        "   - In Python, multiple exceptions can be handled either by using separate except blocks for each exception type or by combining them into a single except block using a tuple. Using multiple except blocks allows you to provide specific handling for different exceptions, improving clarity and control over error responses. Alternatively, you can group several exception types in one block if the handling logic is the same. This makes your code more robust by preventing crashes and allowing graceful recovery from different error scenarios.\n",
        "\n",
        "8. What is the purpose of the with statement when handling files in Python\n",
        "   - The with statement in Python is used when working with files to ensure that resources are properly managed. Its main purpose is to automatically handle the opening and closing of a file, even if an error occurs during file operations. When using with, the file is opened and assigned to a variable, and once the block inside with is executed, the file is automatically closed. This approach makes the code cleaner, reduces the risk of leaving files open, and is considered the best practice for file handling in Python.\n",
        "\n",
        "9. What is the difference between multithreading and multiprocessing\n",
        "   - The difference between multithreading and multiprocessing lies in how they handle tasks concurrently:\n",
        "   Multithreading uses multiple threads within a single process to perform tasks. Threads share the same memory space, making it lightweight and suitable for I/O-bound tasks like reading files or network operations. However, due to Python’s Global Interpreter Lock (GIL), only one thread executes Python bytecode at a time, limiting performance in CPU-bound tasks.Multiprocessing, on the other hand, uses multiple processes, each with its own memory space. This allows true parallelism and is ideal for CPU-bound tasks like mathematical computations. Although it's heavier in terms of memory and setup, it avoids the GIL limitation and can fully utilize multiple CPU cores.\n",
        "   In short, multithreading is better for I/O-bound tasks, while multiprocessing is better for CPU-bound tasks.\n",
        "\n",
        "10. What are the advantages of using logging in a program\n",
        "    - Using logging in a program provides several advantages. It helps track the flow of execution and record important events, errors, or warnings, making it easier to debug and maintain the code. Logging allows developers to monitor programs without interrupting them with print statements. It supports different severity levels (like DEBUG, INFO, WARNING, ERROR, and CRITICAL), making it easier to filter and prioritize messages. Additionally, logs can be saved to files, which is useful for analyzing issues after the program has run. Overall, logging enhances visibility, reliability, and maintainability of software applications.\n",
        "\n",
        "11. What is memory management in Python\n",
        "    - Memory management in Python refers to the process of efficiently allocating, using, and releasing memory during program execution. Python handles memory management automatically using a built-in garbage collector that identifies and frees up memory occupied by objects that are no longer in use. It also uses reference counting to keep track of how many references exist to an object; when the count drops to zero, the memory is released. Additionally, Python has private heap space for storing objects and data structures, which is managed internally. This automatic memory management helps developers write cleaner code without worrying about manual memory allocation and deallocation.\n",
        "\n",
        "12. What are the basic steps involved in exception handling in Python\n",
        "    - The basic steps involved in exception handling in Python are:\n",
        "  Try Block: Place the code that might raise an exception inside a try block.\n",
        "  Except Block: Handle specific exceptions using one or more except blocks.\n",
        "  Else Block (Optional): Define code to run if no exceptions occur.\n",
        "  Finally Block (Optional): Include cleanup code that runs no matter what, whether an exception occurred or not.\n",
        "  This structure helps in managing errors gracefully and ensures that the program doesn’t crash unexpectedly.\n",
        "\n",
        "13. Why is memory management important in Python\n",
        "    - Memory management is important in Python because it ensures that the program uses system memory efficiently, preventing memory leaks and performance issues. Proper memory management allows Python to allocate and release memory automatically, so developers don't need to manage it manually. This helps avoid common programming errors like accessing freed memory or running out of memory. Efficient memory use also improves program speed and reliability, especially in large or long-running applications. Overall, good memory management ensures that resources are used wisely and the program runs smoothly.\n",
        "\n",
        "14. What is the role of try and except in exception handling\n",
        "    - The try and except blocks play a central role in exception handling in Python. The try block contains the code that might raise an exception during execution. If an error occurs in the try block, Python immediately stops executing the remaining code in that block and looks for a matching except block. The except block catches and handles the exception, allowing the program to continue running instead of crashing. This mechanism helps make programs more robust and fault-tolerant by gracefully managing unexpected errors.\n",
        "\n",
        "15. How does Python's garbage collection system work\n",
        "    - Python’s garbage collection system works by automatically managing memory and freeing up space taken by objects that are no longer in use. It mainly uses two techniques: reference counting and cyclic garbage collection.Reference Counting: Every object in Python has a reference count, which tracks how many variables or containers refer to it. When the reference count drops to zero, meaning no one is using the object, Python immediately frees its memory.Cyclic Garbage Collection: Some objects reference each other in a cycle (like A → B → A), preventing their reference counts from reaching zero. Python's cyclic garbage collector detects these cycles and cleans them up.Together, these methods ensure efficient memory use and reduce the chances of memory leaks, helping Python manage memory automatically.\n",
        "\n",
        "16. What is the purpose of the else block in exception handling\n",
        "    - The purpose of the else block in exception handling is to define code that should run only if no exceptions are raised in the try block. It provides a clear separation between the code that might raise an exception and the code that should run only when everything goes smoothly. This makes the program easier to read and maintain.\n",
        "\n",
        "17. What are the common logging levels in Python\n",
        "    - The common logging levels in Python, provided by the built-in logging module, represent the severity of events and help categorize log messages. These levels, from lowest to highest severity, are:\n",
        "DEBUG-Detailed information, mainly used for diagnosing problems during development.\n",
        "INFO General information about the program’s execution e.g., start/end of a process.\n",
        "WARNING Indicates something unexpected happened, but the program is still running normally.\n",
        "ERROR A more serious issue; the program encountered a problem that may affect functionality.CRITICAL A severe error indicating the program might not continue to run.These levels help developers filter and prioritize log messages based on importance.\n",
        "   \n",
        "18. What is the difference between os.fork() and multiprocessing in Python\n",
        "    - The difference between os.fork() and the multiprocessing module in Python lies in their level of abstraction and platform compatibility. os.fork() is a low-level system call available only on Unix-based systems like Linux and macOS. It creates a child process by duplicating the current process, offering direct control but requiring more complex management. In contrast, the multiprocessing module is a high-level, platform-independent library that simplifies process creation and management. It works on both Unix and Windows systems, making it more portable and easier to use. While os.fork() is efficient and powerful, multiprocessing is preferred for most applications due to its simplicity and cross-platform support.\n",
        "\n",
        "19. What is the importance of closing a file in Python\n",
        "    - Closing a file in Python is important because it ensures that all data is properly written to the file and system resources are released. When a file is open, it occupies system memory and file handles, which are limited. If a file isn't closed, it may lead to data loss, especially if buffered data hasn't been saved. Additionally, keeping many files open without closing them can exhaust system resources and cause the program to crash or behave unexpectedly. Using the close() method or a with statement ensures that files are properly closed after use, making the code safer and more efficient.\n",
        "\n",
        "20. What is the difference between file.read() and file.readline() in Python\n",
        "    - The difference between file.read() and file.readline() in Python lies in how much content they read from a file:file.read() reads the entire content of the file as a single string. It’s useful when you want to process the whole file at once, but it can consume a lot of memory for large files.file.readline() reads only one line at a time from the file. It’s ideal for reading files line by line, especially when dealing with large files where loading everything at once is inefficient.In short, read() gets the whole file, while readline() gets one line per call.\n",
        "\n",
        "21. What is the logging module in Python used for\n",
        "    - The logging module in Python is used to record messages that describe the events happening in a program. It provides a flexible framework for emitting log messages from different parts of an application and supports different levels of importance such as DEBUG, INFO, WARNING, ERROR, and CRITICAL. Unlike simple print statements, the logging module allows developers to track errors, monitor program flow, and store logs in files for later analysis. It also supports formatting, filtering, and routing of log messages, making it a powerful tool for debugging and maintaining complex applications.\n",
        "\n",
        "22. What is the os module in Python used for in file handling\n",
        "    - The os module in Python is used in file handling to interact with the operating system and perform various file and directory-related operations. It provides functions to create, delete, rename, and move files or directories. It can also be used to check if a file or folder exists, get file sizes, list directory contents, and manage file paths. The os module makes it easier to write programs that work across different operating systems by providing a consistent interface for file system tasks.\n",
        "\n",
        "23. What are the challenges associated with memory management in Python\n",
        "    - Memory management in Python, though mostly automatic, comes with several challenges. One common issue is memory leaks, which can occur when objects are unintentionally kept in memory due to lingering references. Circular references, where two or more objects refer to each other, can also delay garbage collection and waste memory. Additionally, Python's Global Interpreter Lock (GIL) limits true parallelism in multi-threaded programs, which can affect memory efficiency in CPU-bound tasks. Python’s high-level nature and dynamic typing may also lead to higher memory consumption compared to lower-level languages. While Python handles memory allocation and garbage collection internally, developers still need to manage external resources like file handles or network connections properly to avoid indirect memory issues.\n",
        "\n",
        "24. How do you raise an exception manually in Python\n",
        "    - In Python, you can raise an exception manually using the raise statement followed by an exception class. This is useful when you want to signal that an error has occurred based on a specific condition in your program.\n",
        "\n",
        "25. Why is it important to use multithreading in certain applications\n",
        "    - Multithreading is important in certain applications because it allows multiple tasks to run concurrently within a single process, improving efficiency and responsiveness. It is especially useful for I/O-bound tasks such as reading from files, handling user input, or making network requests, where threads can run while waiting for external operations to complete. By using multithreading, applications like web servers, GUI programs, and real-time systems can remain responsive and perform better. It also helps in utilizing CPU time more effectively during idle waits, leading to faster and smoother execution in multitasking environments.\n",
        "\n",
        "\n",
        "\n",
        "\n",
        "\n",
        "\n",
        "\n",
        "\n",
        "\n",
        "\n",
        "\n",
        "\n",
        "\n",
        "\n",
        "\n",
        "\n",
        "\n",
        "\n",
        "\n",
        "\n",
        "\n",
        "\n",
        "\n",
        "\n",
        "\n",
        "\n",
        "\n",
        "\n",
        "\n",
        "\n",
        "\n",
        "\n",
        "\n",
        "\n",
        "\n",
        "\n",
        "\n",
        "\n"
      ],
      "metadata": {
        "id": "Qb-FMExgcflJ"
      }
    },
    {
      "cell_type": "code",
      "execution_count": 1,
      "metadata": {
        "id": "z_tUj7xAa-bq"
      },
      "outputs": [],
      "source": [
        "'''How can you open a file for writing in Python and write a string to it'''\n",
        "with open(\"example.txt\", \"w\") as file:\n",
        "    file.write(\"Hello, this is a sample text.\")\n"
      ]
    },
    {
      "cell_type": "code",
      "source": [
        "'''Write a Python program to read the contents of a file and print each line'''\n",
        "with open(\"example.txt\", \"r\") as file:\n",
        "    for line in file:\n",
        "        print(line.strip())\n"
      ],
      "metadata": {
        "id": "brS1I_YWAt4p"
      },
      "execution_count": null,
      "outputs": []
    },
    {
      "cell_type": "code",
      "source": [
        "''' How would you handle a case where the file doesn't exist while trying to open it for reading'''\n",
        "try:\n",
        "    with open(\"example.txt\", \"r\") as file:\n",
        "        content = file.read()\n",
        "        print(content)\n",
        "except FileNotFoundError:\n",
        "    print(\"The file does not exist. Please check the filename or path.\")\n"
      ],
      "metadata": {
        "id": "acfwblLDBDgO"
      },
      "execution_count": null,
      "outputs": []
    },
    {
      "cell_type": "code",
      "source": [
        "'''Write a Python script that reads from one file and writes its content to another file'''\n",
        "try:\n",
        "    with open(\"source.txt\", \"r\") as source_file:\n",
        "        content = source_file.read()\n",
        "\n",
        "    with open(\"destination.txt\", \"w\") as dest_file:\n",
        "        dest_file.write(content)\n",
        "\n",
        "    print(\"File copied successfully.\")\n",
        "\n",
        "except FileNotFoundError:\n",
        "    print(\"The source file was not found.\")\n",
        "except IOError:\n",
        "    print(\"An error occurred while reading or writing the file.\")\n"
      ],
      "metadata": {
        "id": "kObS4xYoBfUV"
      },
      "execution_count": null,
      "outputs": []
    },
    {
      "cell_type": "code",
      "source": [
        "'''How would you catch and handle division by zero error in Python'''\n",
        "try:\n",
        "    result = 10 / 0\n",
        "    print(\"Result:\", result)\n",
        "except ZeroDivisionError:\n",
        "    print(\"Error: Division by zero is not allowed.\")\n"
      ],
      "metadata": {
        "id": "jnY9kgEiCKWe"
      },
      "execution_count": null,
      "outputs": []
    },
    {
      "cell_type": "code",
      "source": [
        "'''Write a Python program that logs an error message to a log file when a division by zero exception occurs'''\n",
        "import logging\n",
        "\n",
        "logging.basicConfig(filename=\"error.log\", level=logging.ERROR,\n",
        "                    format=\"%(asctime)s - %(levelname)s - %(message)s\")\n",
        "\n",
        "try:\n",
        "    a = 10\n",
        "    b = 0\n",
        "    result = a / b\n",
        "    print(\"Result:\", result)\n",
        "except ZeroDivisionError as e:\n",
        "    logging.error(\"Division by zero error occurred: %s\", e)\n",
        "    print(\"An error occurred. Check 'error.log' for details.\")\n"
      ],
      "metadata": {
        "id": "OpK1Pk__C9ld"
      },
      "execution_count": null,
      "outputs": []
    },
    {
      "cell_type": "code",
      "source": [
        "''' How do you log information at different levels (INFO, ERROR, WARNING) in Python using the logging module'''\n",
        "import logging\n",
        "\n",
        "logging.basicConfig(\n",
        "    filename=\"app.log\",\n",
        "    level=logging.DEBUG,\n",
        "    format=\"%(asctime)s - %(levelname)s - %(message)s\"\n",
        ")\n",
        "\n",
        "logging.debug(\"This is a debug message.\")\n",
        "logging.info(\"This is an info message.\")\n",
        "logging.warning(\"This is a warning message.\")\n",
        "logging.error(\"This is an error message.\")\n",
        "logging.critical(\"This is a critical message.\")\n"
      ],
      "metadata": {
        "id": "xM_Me6ZFDmbO"
      },
      "execution_count": null,
      "outputs": []
    },
    {
      "cell_type": "code",
      "source": [
        "'''Write a program to handle a file opening error using exception handling'''\n",
        "try:\n",
        "    file = open(\"nonexistent_file.txt\", \"r\")\n",
        "    content = file.read()\n",
        "    print(content)\n",
        "    file.close()\n",
        "except FileNotFoundError:\n",
        "    print(\"Error: The file was not found.\")\n"
      ],
      "metadata": {
        "id": "CHJP-xQaEkRn"
      },
      "execution_count": null,
      "outputs": []
    },
    {
      "cell_type": "code",
      "source": [
        "'''How can you read a file line by line and store its content in a list in Python'''\n",
        "with open(\"example.txt\", \"r\") as file:\n",
        "    lines = file.readlines()\n",
        "\n",
        "print(lines)\n",
        "\n"
      ],
      "metadata": {
        "id": "_lziSX83FJ8G"
      },
      "execution_count": null,
      "outputs": []
    },
    {
      "cell_type": "code",
      "source": [
        "'''How can you append data to an existing file in Python'''\n",
        "with open(\"example.txt\", \"a\") as file:\n",
        "    file.write(\"This is a new line.\\n\")\n"
      ],
      "metadata": {
        "id": "boLp79L1Fdav"
      },
      "execution_count": null,
      "outputs": []
    },
    {
      "cell_type": "code",
      "source": [
        "'''Write a Python program that uses a try-except block to handle an error when attempting to access a\n",
        "dictionary key that doesn't exist'''\n",
        "my_dict = {\"name\": \"Alice\", \"age\": 25}\n",
        "\n",
        "try:\n",
        "    value = my_dict[\"address\"]\n",
        "    print(\"Address:\", value)\n",
        "except KeyError:\n",
        "    print(\"Error: The key 'address' does not exist in the dictionary.\")\n"
      ],
      "metadata": {
        "colab": {
          "base_uri": "https://localhost:8080/"
        },
        "id": "8HgWa177GgQ-",
        "outputId": "2b82cc43-5c73-4be7-f24c-2148f062da45"
      },
      "execution_count": 3,
      "outputs": [
        {
          "output_type": "stream",
          "name": "stdout",
          "text": [
            "Error: The key 'address' does not exist in the dictionary.\n"
          ]
        }
      ]
    },
    {
      "cell_type": "code",
      "source": [
        "'''Write a program that demonstrates using multiple except blocks to handle different types of exceptions'''\n",
        "try:\n",
        "    num = int(input(\"Enter a number: \"))\n",
        "    result = 10 / num\n",
        "    print(\"Result:\", result)\n",
        "\n",
        "    my_list = [1, 2, 3]\n",
        "    print(my_list[5])\n",
        "\n",
        "except ValueError:\n",
        "    print(\"Error: Invalid input. Please enter a valid number.\")\n",
        "except ZeroDivisionError:\n",
        "    print(\"Error: Division by zero is not allowed.\")\n",
        "except IndexError:\n",
        "    print(\"Error: List index out of range.\")\n"
      ],
      "metadata": {
        "colab": {
          "base_uri": "https://localhost:8080/"
        },
        "id": "Ou0X5IwRGy9G",
        "outputId": "55756a51-d5a0-4231-f19f-59a1931c91fa"
      },
      "execution_count": 2,
      "outputs": [
        {
          "output_type": "stream",
          "name": "stdout",
          "text": [
            "Enter a number: 456\n",
            "Result: 0.021929824561403508\n",
            "Error: List index out of range.\n"
          ]
        }
      ]
    },
    {
      "cell_type": "code",
      "source": [
        "'''How would you check if a file exists before attempting to read it in Python'''\n",
        "import os\n",
        "\n",
        "if os.path.exists(\"example.txt\"):\n",
        "    with open(\"example.txt\", \"r\") as file:\n",
        "        content = file.read()\n",
        "        print(content)\n",
        "else:\n",
        "    print(\"The file does not exist.\")\n"
      ],
      "metadata": {
        "id": "I_FAgeydHKHu"
      },
      "execution_count": null,
      "outputs": []
    },
    {
      "cell_type": "code",
      "source": [
        "'''Write a program that uses the logging module to log both informational and error messages'''\n",
        "import logging\n",
        "\n",
        "logging.basicConfig(\n",
        "    filename=\"app.log\",\n",
        "    level=logging.DEBUG,\n",
        "    format=\"%(asctime)s - %(levelname)s - %(message)s\"\n",
        ")\n",
        "\n",
        "def divide(a, b):\n",
        "    try:\n",
        "        result = a / b\n",
        "        logging.info(\"Division successful: %s / %s = %s\", a, b, result)\n",
        "        return result\n",
        "    except ZeroDivisionError as e:\n",
        "        logging.error(\"Division by zero error: %s\", e)\n",
        "        return None\n",
        "\n",
        "divide(10, 2)\n",
        "divide(10, 0)\n"
      ],
      "metadata": {
        "id": "qX4XVCE1HbeO"
      },
      "execution_count": null,
      "outputs": []
    },
    {
      "cell_type": "code",
      "source": [
        "''' Write a Python program that prints the content of a file and handles the case when the file is empty'''\n",
        "try:\n",
        "    with open(\"example.txt\", \"r\") as file:\n",
        "        content = file.read()\n",
        "        if content:\n",
        "            print(\"File Content:\\n\", content)\n",
        "        else:\n",
        "            print(\"The file is empty.\")\n",
        "except FileNotFoundError:\n",
        "    print(\"Error: The file does not exist.\")\n"
      ],
      "metadata": {
        "id": "j7nGJy5WHnT9"
      },
      "execution_count": null,
      "outputs": []
    },
    {
      "cell_type": "code",
      "source": [
        "'''Demonstrate how to use memory profiling to check the memory usage of a small program'''\n",
        "from memory_profiler import profile\n",
        "\n",
        "@profile\n",
        "def create_large_list():\n",
        "    large_list = [i for i in range(1000000)]\n",
        "    total = sum(large_list)\n",
        "    return total\n",
        "\n",
        "if __name__ == \"__main__\":\n",
        "    result = create_large_list()\n",
        "    print(\"Sum of list:\", result)\n"
      ],
      "metadata": {
        "id": "ouiNt2OnH2vG"
      },
      "execution_count": null,
      "outputs": []
    },
    {
      "cell_type": "code",
      "source": [
        "'''Write a Python program to create and write a list of numbers to a file, one number per line'''\n",
        "numbers = [1, 2, 3, 4, 5, 6, 7, 8, 9, 10]\n",
        "\n",
        "with open(\"numbers.txt\", \"w\") as file:\n",
        "    for number in numbers:\n",
        "        file.write(f\"{number}\\n\")\n"
      ],
      "metadata": {
        "id": "SxMC7ZZnIP_u"
      },
      "execution_count": null,
      "outputs": []
    },
    {
      "cell_type": "code",
      "source": [
        "'''How would you implement a basic logging setup that logs to a file with rotation after 1MB'''\n",
        "import logging\n",
        "from logging.handlers import RotatingFileHandler\n",
        "\n",
        "logger = logging.getLogger(\"my_logger\")\n",
        "logger.setLevel(logging.INFO)\n",
        "\n",
        "\n",
        "handler = RotatingFileHandler(\n",
        "    \"app.log\", maxBytes=1_000_000, backupCount=3\n",
        ")\n",
        "\n",
        "\n",
        "formatter = logging.Formatter(\n",
        "    \"%(asctime)s - %(levelname)s - %(message)s\"\n",
        ")\n",
        "handler.setFormatter(formatter)\n",
        "\n",
        "\n",
        "logger.addHandler(handler)\n",
        "\n",
        "\n",
        "for i in range(10000):\n",
        "    logger.info(f\"Logging message number {i}\")\n"
      ],
      "metadata": {
        "id": "mQbfh551IyK2"
      },
      "execution_count": null,
      "outputs": []
    },
    {
      "cell_type": "code",
      "source": [
        "'''Write a program that handles both IndexError and KeyError using a try-except block'''\n",
        "my_list = [1, 2, 3]\n",
        "my_dict = {\"name\": \"Alice\", \"age\": 25}\n",
        "\n",
        "try:\n",
        "    print(\"List item:\", my_list[5])\n",
        "    print(\"Dictionary value:\", my_dict[\"address\"])\n",
        "except IndexError:\n",
        "    print(\"Error: List index is out of range.\")\n",
        "except KeyError:\n",
        "    print(\"Error: Dictionary key not found.\")\n"
      ],
      "metadata": {
        "id": "G0enX8XXJF1A"
      },
      "execution_count": null,
      "outputs": []
    },
    {
      "cell_type": "code",
      "source": [
        "''' How would you open a file and read its contents using a context manager in Python'''\n",
        "with open(\"example.txt\", \"r\") as file:\n",
        "    content = file.read()\n",
        "    print(content)\n"
      ],
      "metadata": {
        "id": "4SmVssusJR5-"
      },
      "execution_count": null,
      "outputs": []
    },
    {
      "cell_type": "code",
      "source": [
        "'''Write a Python program that reads a file and prints the number of occurrences of a specific word'''\n",
        "def count_word_occurrences(filename, target_word):\n",
        "    try:\n",
        "        with open(filename, \"r\") as file:\n",
        "            content = file.read()\n",
        "            words = content.lower().split()\n",
        "            count = words.count(target_word.lower())\n",
        "            print(f\"The word '{target_word}' occurs {count} times.\")\n",
        "    except FileNotFoundError:\n",
        "        print(\"Error: The file does not exist.\")\n",
        "\n",
        "# Example usage\n",
        "count_word_occurrences(\"example.txt\", \"python\")\n"
      ],
      "metadata": {
        "id": "jnc2Qnu2JjZu"
      },
      "execution_count": null,
      "outputs": []
    },
    {
      "cell_type": "code",
      "source": [
        "'''How can you check if a file is empty before attempting to read its contents'''\n",
        "import os\n",
        "\n",
        "file_path = \"example.txt\"\n",
        "\n",
        "if os.path.getsize(file_path) == 0:\n",
        "    print(\"The file is empty.\")\n",
        "else:\n",
        "    with open(file_path, \"r\") as file:\n",
        "        content = file.read()\n",
        "        print(\"File content:\\n\", content)\n"
      ],
      "metadata": {
        "id": "1BKcHcJVJtCH"
      },
      "execution_count": null,
      "outputs": []
    },
    {
      "cell_type": "code",
      "source": [
        "'''Write a Python program that writes to a log file when an error occurs during file handling'''\n",
        "import logging\n",
        "\n",
        "logging.basicConfig(\n",
        "    filename=\"file_errors.log\",\n",
        "    level=logging.ERROR,\n",
        "    format=\"%(asctime)s - %(levelname)s - %(message)s\"\n",
        ")\n",
        "\n",
        "try:\n",
        "    with open(\"nonexistent_file.txt\", \"r\") as file:\n",
        "        content = file.read()\n",
        "        print(content)\n",
        "except FileNotFoundError as e:\n",
        "    logging.error(\"File not found: %s\", e)\n",
        "    print(\"An error occurred. Check the log file for details.\")\n",
        "except Exception as e:\n",
        "    logging.error(\"An unexpected error occurred: %s\", e)\n",
        "    print(\"An unexpected error occurred. See the log for details.\")\n"
      ],
      "metadata": {
        "id": "fjd7PlsnJ-p_"
      },
      "execution_count": null,
      "outputs": []
    }
  ]
}